{
 "cells": [
  {
   "cell_type": "code",
   "execution_count": 142,
   "metadata": {},
   "outputs": [],
   "source": [
    "t=float(128) #tara\n",
    "x=np.array([20, 35, 50, 65, 90]) #braccio lungo\n",
    "y=np.array([157-t, 177-t, 202-t, 225-t, 257-t]) #braccio corto"
   ]
  },
  {
   "cell_type": "code",
   "execution_count": 137,
   "metadata": {},
   "outputs": [
    {
     "data": {
      "image/png": "[encoded data removed]",
      "text/plain": [
       "<Figure size 432x288 with 1 Axes>"
      ]
     },
     "metadata": {
      "needs_background": "light"
     },
     "output_type": "display_data"
    },
    {
     "name": "stdout",
     "output_type": "stream",
     "text": [
      "y = 1.45x + 0.10\n"
     ]
    }
   ],
   "source": [
    "\n",
    "plt.plot(x, y)\n",
    "plt.xlabel(\"asse X - braccio lungo\")\n",
    "plt.ylabel(\"asse Y - braccio corto\")\n",
    "m, b = np.polyfit(x, y, 1)\n",
    "plt.plot(x, m*x+b)\n",
    "plt.legend(['misure', 'fitting'])\n",
    "plt.show()\n",
    "\n",
    "print (f\"y = {m:.2f}x + {b:.2f}\")"
   ]
  },
  {
   "cell_type": "code",
   "execution_count": 138,
   "metadata": {},
   "outputs": [
    {
     "data": {
      "text/plain": [
       "1.4534954407294833"
      ]
     },
     "execution_count": 138,
     "metadata": {},
     "output_type": "execute_result"
    }
   ],
   "source": [
    "A=np.sum(x*y)/(np.sum(x**2))\n",
    "A"
   ]
  },
  {
   "cell_type": "code",
   "execution_count": 139,
   "metadata": {},
   "outputs": [
    {
     "data": {
      "text/plain": [
       "1.9315804512144137"
      ]
     },
     "execution_count": 139,
     "metadata": {},
     "output_type": "execute_result"
    }
   ],
   "source": [
    "sigmaY=np.sum((y - A*x)**2)/(len(x)-1)\n",
    "sigmaY=np.sqrt(sigmaY)\n",
    "sigmaY"
   ]
  },
  {
   "cell_type": "code",
   "execution_count": 140,
   "metadata": {},
   "outputs": [
    {
     "data": {
      "text/plain": [
       "0.01506016916940729"
      ]
     },
     "execution_count": 140,
     "metadata": {},
     "output_type": "execute_result"
    }
   ],
   "source": [
    "sigmaA=sigmaY/np.sqrt(np.sum(x**2))\n",
    "sigmaA"
   ]
  },
  {
   "cell_type": "markdown",
   "metadata": {},
   "source": [
    "## Conversione peso"
   ]
  },
  {
   "cell_type": "code",
   "execution_count": 141,
   "metadata": {},
   "outputs": [
    {
     "name": "stdout",
     "output_type": "stream",
     "text": [
      "Conversione: 109.39 +/- 1.93 chicchi\n"
     ]
    }
   ],
   "source": [
    "pesata=287\n",
    "\n",
    "def f(x):\n",
    "    return (x-t)/A\n",
    "\n",
    "conversione=f(pesata)\n",
    "print(f\"Conversione: {conversione:.2f} +/- {sigmaY:.2f} chicchi\")"
   ]
  },
  {
   "cell_type": "code",
   "execution_count": null,
   "metadata": {},
   "outputs": [],
   "source": []
  }
 ],
 "metadata": {
  "kernelspec": {
   "display_name": "Python 3",
   "language": "python",
   "name": "python3"
  },
  "language_info": {
   "codemirror_mode": {
    "name": "ipython",
    "version": 3
   },
   "file_extension": ".py",
   "mimetype": "text/x-python",
   "name": "python",
   "nbconvert_exporter": "python",
   "pygments_lexer": "ipython3",
   "version": "3.8.5"
  }
 },
 "nbformat": 4,
 "nbformat_minor": 4
}
